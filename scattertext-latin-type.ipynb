{
 "cells": [
  {
   "cell_type": "markdown",
   "metadata": {},
   "source": [
    "# Plotting Generic Diction in Latin Poetry with Scattertext"
   ]
  },
  {
   "cell_type": "markdown",
   "metadata": {},
   "source": [
    "This notebook plots keyness in generic diction in Latin poetry, specifically Latin love elegy (Propertius, Tibullus, early Ovid) and epic (Virgil's *Aeneid*) and it does so using the very attractive interactive plots produced by Jason Kessler's [Scattertext](https://github.com/JasonKessler/scattertext). Kessler's Scattertext demo plot visualized the relative keyness of Democratic/Republican diction using the corpus of 2012 political convention addresses. I have created a binary model of my own, following my work on elegiac diction in Latin epic poetry from my dissertation [\"*Amor belli*: Elegiac Diction and the Theme of Love in Lucan's *Bellum civile*\"](https://fordham.bepress.com/dissertations/AAI10125245/) as well as a related article in the *Journal of Data Mining and Digital Humanities* titled [\"Measuring and Mapping Intergeneric Allusion using *Tesserae*\"](https://hal.archives-ouvertes.fr/hal-01282568). Here I create a chunked corpus from the authors listed above. The texts are preprocessed, lemmatized, and then plotted using Scattertext. As I mentioned above, the results are attractive.\n",
    "\n",
    "<a href='https://cdn.rawgit.com/diyclassics/literature-experiments/21f004b3af0cac0eb08bbd64166983e3c2090a97/Lemmatized-Genre-Visualization.html' target='_blank'><img src=\"./images/scattertext.png\" alt=\"Scattertext visualization of elegy/epic\"></a>\n",
    "\n",
    "In a single, easy-to-take-in plot, we get an excellent sense of which words are 'elegiac' and which words are 'epic' as well as their relative frequency. (The fact that we can easily search for terms in context is a nice bonus, as is the summary information.) Readers of Latin poetry should not be suprised by the upper-left and lower-right corners, that is frequent-elegiac and frequent-epic, respectively. *Puella*, *domina*, *formosus* are decidely elegiac; *clipeus*, *arduus*, *immanis* are epic. Cynthia finds a place among the elegiac words, while Turnus and Anchises rest in epic diction. (Aeneas is more epic than not, but [*Heroides* 7](http://www.thelatinlibrary.com/ovid/ovid.her7.shtml) alone brings up the elegiac value.) But what is much more interesting to me, and what has been a central idea in my research on generic diction are the words in the middle of the plot. \n",
    "\n",
    "This plot makes clear that generic diction does not have to be thought of in discrete, binary terms, but rather we can create language models like the simplified elegy-epic model presented here, that show generic diction as continuous. For example, I can say not only that *cupio* is more elegiac than epic, but I can be more specific and say that—in this model at least—*cupio* is 79% elegiac / 21% epic. In future notebooks, I will expand on this kind of thinking, that is observing literary features as continuous variables in texts. For example, by assigning generic weights to words in these texts we can map epicness or elegiacness in [narrative space](https://github.com/diyclassics/literature-experiments/blob/master/plot-narrative-space.ipynb).\n",
    "\n",
    "One last point—this notebook uses [spaCy's English NLP tools](https://spacy.io) for preparing the Scattertext plots. I have been working on developing [Latin-specific tools for spaCy](https://github.com/diyclassics/spaCy/tree/latin/spacy/lang) and this experiment further convinces me of the usefulness of this work. Hopefully this is something I can devote more time to soon. [PJB 3.22.18]"
   ]
  },
  {
   "cell_type": "code",
   "execution_count": 12,
   "metadata": {},
   "outputs": [],
   "source": [
    "# Imports\n",
    "\n",
    "import os\n",
    "\n",
    "import pandas as pd\n",
    "\n",
    "import spacy\n",
    "\n",
    "from cltk.corpus.latin import latinlibrary\n",
    "from cltk.tokenize.word import WordTokenizer\n",
    "from cltk.stem.latin.j_v import JVReplacer\n",
    "from cltk.lemmatize.latin.backoff import BackoffLatinLemmatizer\n",
    "from cltk.utils.file_operations import open_pickle\n",
    "\n",
    "import scattertext as st\n",
    "\n",
    "from pprint import pprint"
   ]
  },
  {
   "cell_type": "code",
   "execution_count": 13,
   "metadata": {},
   "outputs": [],
   "source": [
    "# Set up spaCy for Scattertext\n",
    "\n",
    "nlp = spacy.load('en')"
   ]
  },
  {
   "cell_type": "code",
   "execution_count": 14,
   "metadata": {},
   "outputs": [],
   "source": [
    "import pickle\n",
    "Lemmatizer = pickle.load(open(\"./tools/lemmatizer.p\", \"rb\"))"
   ]
  },
  {
   "cell_type": "code",
   "execution_count": 20,
   "metadata": {},
   "outputs": [],
   "source": [
    "TextArrayChunks = pickle.load(open(\"./data/text_array_chunks.p\", \"rb\"))"
   ]
  },
  {
   "cell_type": "code",
   "execution_count": 28,
   "metadata": {},
   "outputs": [],
   "source": [
    "def preprocess(text):\n",
    "    \n",
    "    import html\n",
    "    import re\n",
    "    \n",
    "    text = html.unescape(text) # Handle html entities\n",
    "    \n",
    "    text = text.lower()\n",
    "    text = replacer.replace(text) #Normalize u/v & i/j\n",
    "    \n",
    "    punctuation =\"\\\"#$%&\\'()*+,-/:;<=>@[\\]^_`{|}~.?!«»—\"\n",
    "    translator = str.maketrans({key: \"\" for key in punctuation})\n",
    "    text = text.translate(translator)\n",
    "    \n",
    "    translator = str.maketrans({key: \"\" for key in '0123456789'})\n",
    "    text = text.translate(translator)\n",
    "    \n",
    "    return text\n",
    "\n",
    "# Script for lemmatizing text\n",
    "\n",
    "def lemmatize_text(text):\n",
    "    tokens = word_tokenizer.tokenize(text)\n",
    "    lemma_pairs = Lemmatizer.lemmatize(tokens)\n",
    "    lemmas = [lemma[1] for lemma in lemma_pairs]\n",
    "    lemmatized_text = preprocess(\" \".join(lemmas))\n",
    "    return lemmatized_text.strip()"
   ]
  },
  {
   "cell_type": "code",
   "execution_count": 29,
   "metadata": {},
   "outputs": [
    {
     "data": {
      "text/html": [
       "<div>\n",
       "<style scoped>\n",
       "    .dataframe tbody tr th:only-of-type {\n",
       "        vertical-align: middle;\n",
       "    }\n",
       "\n",
       "    .dataframe tbody tr th {\n",
       "        vertical-align: top;\n",
       "    }\n",
       "\n",
       "    .dataframe thead th {\n",
       "        text-align: right;\n",
       "    }\n",
       "</style>\n",
       "<table border=\"1\" class=\"dataframe\">\n",
       "  <thead>\n",
       "    <tr style=\"text-align: right;\">\n",
       "      <th></th>\n",
       "      <th>type</th>\n",
       "      <th>work</th>\n",
       "      <th>chunk</th>\n",
       "      <th>text</th>\n",
       "    </tr>\n",
       "  </thead>\n",
       "  <tbody>\n",
       "    <tr>\n",
       "      <th>0</th>\n",
       "      <td>prose</td>\n",
       "      <td>caesar/alex.txt</td>\n",
       "      <td>caesar/alex.txt_0</td>\n",
       "      <td>locus in tantus munitio profero nam incendium ...</td>\n",
       "    </tr>\n",
       "    <tr>\n",
       "      <th>1</th>\n",
       "      <td>prose</td>\n",
       "      <td>caesar/alex.txt</td>\n",
       "      <td>caesar/alex.txt_1</td>\n",
       "      <td>acuo qui ab nos fio uideo is sollertia efficio...</td>\n",
       "    </tr>\n",
       "    <tr>\n",
       "      <th>2</th>\n",
       "      <td>prose</td>\n",
       "      <td>caesar/alex.txt</td>\n",
       "      <td>caesar/alex.txt_2</td>\n",
       "      <td>ex priuo aedificium specus atque puteus extrah...</td>\n",
       "    </tr>\n",
       "    <tr>\n",
       "      <th>3</th>\n",
       "      <td>prose</td>\n",
       "      <td>caesar/alex.txt</td>\n",
       "      <td>caesar/alex.txt_3</td>\n",
       "      <td>habeo qui si alius sum litor aegypti natura at...</td>\n",
       "    </tr>\n",
       "    <tr>\n",
       "      <th>4</th>\n",
       "      <td>prose</td>\n",
       "      <td>caesar/alex.txt</td>\n",
       "      <td>caesar/alex.txt_4</td>\n",
       "      <td>nauigium actuarius caesar facio certus caesar ...</td>\n",
       "    </tr>\n",
       "    <tr>\n",
       "      <th>5</th>\n",
       "      <td>prose</td>\n",
       "      <td>caesar/alex.txt</td>\n",
       "      <td>caesar/alex.txt_5</td>\n",
       "      <td>punc ne qui suus culpa detrimentum accipio uid...</td>\n",
       "    </tr>\n",
       "    <tr>\n",
       "      <th>6</th>\n",
       "      <td>prose</td>\n",
       "      <td>caesar/alex.txt</td>\n",
       "      <td>caesar/alex.txt_6</td>\n",
       "      <td>in ipse portus confligo uideo itaque paucus di...</td>\n",
       "    </tr>\n",
       "    <tr>\n",
       "      <th>7</th>\n",
       "      <td>prose</td>\n",
       "      <td>caesar/alex.txt</td>\n",
       "      <td>caesar/alex.txt_7</td>\n",
       "      <td>graecus comparo hic ob nosco scientia atque an...</td>\n",
       "    </tr>\n",
       "    <tr>\n",
       "      <th>8</th>\n",
       "      <td>prose</td>\n",
       "      <td>caesar/alex.txt</td>\n",
       "      <td>caesar/alex.txt_8</td>\n",
       "      <td>superus dies saepenumero caesar suus euerat ut...</td>\n",
       "    </tr>\n",
       "    <tr>\n",
       "      <th>9</th>\n",
       "      <td>prose</td>\n",
       "      <td>caesar/alex.txt</td>\n",
       "      <td>caesar/alex.txt_9</td>\n",
       "      <td>custodia portus relinquo nauis ad litus et uic...</td>\n",
       "    </tr>\n",
       "  </tbody>\n",
       "</table>\n",
       "</div>"
      ],
      "text/plain": [
       "    type             work              chunk  \\\n",
       "0  prose  caesar/alex.txt  caesar/alex.txt_0   \n",
       "1  prose  caesar/alex.txt  caesar/alex.txt_1   \n",
       "2  prose  caesar/alex.txt  caesar/alex.txt_2   \n",
       "3  prose  caesar/alex.txt  caesar/alex.txt_3   \n",
       "4  prose  caesar/alex.txt  caesar/alex.txt_4   \n",
       "5  prose  caesar/alex.txt  caesar/alex.txt_5   \n",
       "6  prose  caesar/alex.txt  caesar/alex.txt_6   \n",
       "7  prose  caesar/alex.txt  caesar/alex.txt_7   \n",
       "8  prose  caesar/alex.txt  caesar/alex.txt_8   \n",
       "9  prose  caesar/alex.txt  caesar/alex.txt_9   \n",
       "\n",
       "                                                text  \n",
       "0  locus in tantus munitio profero nam incendium ...  \n",
       "1  acuo qui ab nos fio uideo is sollertia efficio...  \n",
       "2  ex priuo aedificium specus atque puteus extrah...  \n",
       "3  habeo qui si alius sum litor aegypti natura at...  \n",
       "4  nauigium actuarius caesar facio certus caesar ...  \n",
       "5  punc ne qui suus culpa detrimentum accipio uid...  \n",
       "6  in ipse portus confligo uideo itaque paucus di...  \n",
       "7  graecus comparo hic ob nosco scientia atque an...  \n",
       "8  superus dies saepenumero caesar suus euerat ut...  \n",
       "9  custodia portus relinquo nauis ad litus et uic...  "
      ]
     },
     "execution_count": 29,
     "metadata": {},
     "output_type": "execute_result"
    }
   ],
   "source": [
    "# Lemmatize text column\n",
    "\n",
    "df['text'] = df.apply(lambda row: lemmatize_text(row['text']), axis=1)\n",
    "df[:10]"
   ]
  },
  {
   "cell_type": "code",
   "execution_count": 30,
   "metadata": {},
   "outputs": [],
   "source": [
    "df = pd.DataFrame(TextArrayChunks, columns = ['type', 'work', 'chunk', 'text'])"
   ]
  },
  {
   "cell_type": "code",
   "execution_count": 33,
   "metadata": {},
   "outputs": [
    {
     "data": {
      "text/html": [
       "<div>\n",
       "<style scoped>\n",
       "    .dataframe tbody tr th:only-of-type {\n",
       "        vertical-align: middle;\n",
       "    }\n",
       "\n",
       "    .dataframe tbody tr th {\n",
       "        vertical-align: top;\n",
       "    }\n",
       "\n",
       "    .dataframe thead th {\n",
       "        text-align: right;\n",
       "    }\n",
       "</style>\n",
       "<table border=\"1\" class=\"dataframe\">\n",
       "  <thead>\n",
       "    <tr style=\"text-align: right;\">\n",
       "      <th></th>\n",
       "      <th>type</th>\n",
       "      <th>work</th>\n",
       "      <th>chunk</th>\n",
       "      <th>text</th>\n",
       "    </tr>\n",
       "  </thead>\n",
       "  <tbody>\n",
       "    <tr>\n",
       "      <th>0</th>\n",
       "      <td>prose</td>\n",
       "      <td>caesar/alex.txt</td>\n",
       "      <td>caesar/alex.txt_0</td>\n",
       "      <td>locus in tantus munitio profero nam incendium ...</td>\n",
       "    </tr>\n",
       "    <tr>\n",
       "      <th>1</th>\n",
       "      <td>prose</td>\n",
       "      <td>caesar/alex.txt</td>\n",
       "      <td>caesar/alex.txt_1</td>\n",
       "      <td>acuo qui ab nos fio uideo is sollertia efficio...</td>\n",
       "    </tr>\n",
       "    <tr>\n",
       "      <th>2</th>\n",
       "      <td>prose</td>\n",
       "      <td>caesar/alex.txt</td>\n",
       "      <td>caesar/alex.txt_2</td>\n",
       "      <td>ex priuatus aedificium specus atque puteus ext...</td>\n",
       "    </tr>\n",
       "    <tr>\n",
       "      <th>3</th>\n",
       "      <td>prose</td>\n",
       "      <td>caesar/alex.txt</td>\n",
       "      <td>caesar/alex.txt_3</td>\n",
       "      <td>habeo qui si alius sum litor aegypti natura at...</td>\n",
       "    </tr>\n",
       "    <tr>\n",
       "      <th>4</th>\n",
       "      <td>prose</td>\n",
       "      <td>caesar/alex.txt</td>\n",
       "      <td>caesar/alex.txt_4</td>\n",
       "      <td>nauigium actuarius caesar facio certus caesar ...</td>\n",
       "    </tr>\n",
       "    <tr>\n",
       "      <th>5</th>\n",
       "      <td>prose</td>\n",
       "      <td>caesar/alex.txt</td>\n",
       "      <td>caesar/alex.txt_5</td>\n",
       "      <td>ne qui suus culpa detrimentum accipio uideo it...</td>\n",
       "    </tr>\n",
       "    <tr>\n",
       "      <th>6</th>\n",
       "      <td>prose</td>\n",
       "      <td>caesar/alex.txt</td>\n",
       "      <td>caesar/alex.txt_6</td>\n",
       "      <td>in ipse portus confligo uideo itaque paucus di...</td>\n",
       "    </tr>\n",
       "    <tr>\n",
       "      <th>7</th>\n",
       "      <td>prose</td>\n",
       "      <td>caesar/alex.txt</td>\n",
       "      <td>caesar/alex.txt_7</td>\n",
       "      <td>graecus comparo hic ob nosco scientia atque an...</td>\n",
       "    </tr>\n",
       "    <tr>\n",
       "      <th>8</th>\n",
       "      <td>prose</td>\n",
       "      <td>caesar/alex.txt</td>\n",
       "      <td>caesar/alex.txt_8</td>\n",
       "      <td>superus dies saepenumero caesar suus euerat ut...</td>\n",
       "    </tr>\n",
       "    <tr>\n",
       "      <th>9</th>\n",
       "      <td>prose</td>\n",
       "      <td>caesar/alex.txt</td>\n",
       "      <td>caesar/alex.txt_9</td>\n",
       "      <td>custodia portus relinquo nauis ad litus et uic...</td>\n",
       "    </tr>\n",
       "  </tbody>\n",
       "</table>\n",
       "</div>"
      ],
      "text/plain": [
       "    type             work              chunk  \\\n",
       "0  prose  caesar/alex.txt  caesar/alex.txt_0   \n",
       "1  prose  caesar/alex.txt  caesar/alex.txt_1   \n",
       "2  prose  caesar/alex.txt  caesar/alex.txt_2   \n",
       "3  prose  caesar/alex.txt  caesar/alex.txt_3   \n",
       "4  prose  caesar/alex.txt  caesar/alex.txt_4   \n",
       "5  prose  caesar/alex.txt  caesar/alex.txt_5   \n",
       "6  prose  caesar/alex.txt  caesar/alex.txt_6   \n",
       "7  prose  caesar/alex.txt  caesar/alex.txt_7   \n",
       "8  prose  caesar/alex.txt  caesar/alex.txt_8   \n",
       "9  prose  caesar/alex.txt  caesar/alex.txt_9   \n",
       "\n",
       "                                                text  \n",
       "0  locus in tantus munitio profero nam incendium ...  \n",
       "1  acuo qui ab nos fio uideo is sollertia efficio...  \n",
       "2  ex priuatus aedificium specus atque puteus ext...  \n",
       "3  habeo qui si alius sum litor aegypti natura at...  \n",
       "4  nauigium actuarius caesar facio certus caesar ...  \n",
       "5  ne qui suus culpa detrimentum accipio uideo it...  \n",
       "6  in ipse portus confligo uideo itaque paucus di...  \n",
       "7  graecus comparo hic ob nosco scientia atque an...  \n",
       "8  superus dies saepenumero caesar suus euerat ut...  \n",
       "9  custodia portus relinquo nauis ad litus et uic...  "
      ]
     },
     "execution_count": 33,
     "metadata": {},
     "output_type": "execute_result"
    }
   ],
   "source": [
    "# Lemmatize text column\n",
    "\n",
    "df['text'] = df.apply(lambda row: lemmatize_text(row['text']), axis=1)\n",
    "df[:10]"
   ]
  },
  {
   "cell_type": "code",
   "execution_count": 34,
   "metadata": {},
   "outputs": [],
   "source": [
    "# Build Scatterplot corpus with lemmatized texts\n",
    "\n",
    "corpus = st.CorpusFromPandas(df,\n",
    "                            category_col='type',\n",
    "                            text_col='text',\n",
    "                            nlp=nlp).build()"
   ]
  },
  {
   "cell_type": "code",
   "execution_count": 35,
   "metadata": {},
   "outputs": [
    {
     "name": "stdout",
     "output_type": "stream",
     "text": [
      "['m',\n",
      " 'proelium',\n",
      " 'ciuitas',\n",
      " 'multitudo',\n",
      " 'res publicus',\n",
      " 'populus romanus',\n",
      " 'sed etiam',\n",
      " 'altitudo',\n",
      " 'existimo',\n",
      " 'hispania']\n"
     ]
    }
   ],
   "source": [
    "# Get words with prosaic keyness\n",
    "\n",
    "term_freq_df = corpus.get_term_freq_df()\n",
    "term_freq_df['Prose Score'] = corpus.get_scaled_f_scores('prose')\n",
    "pprint(list(term_freq_df.sort_values(by='Prose Score', ascending=False).index[:10]))"
   ]
  },
  {
   "cell_type": "code",
   "execution_count": 36,
   "metadata": {},
   "outputs": [
    {
     "name": "stdout",
     "output_type": "stream",
     "text": [
      "['aequor',\n",
      " 'phoebus',\n",
      " 'como',\n",
      " 'osculum',\n",
      " 'genitor',\n",
      " 'teucer',\n",
      " 'penna',\n",
      " 'domina',\n",
      " 'ensis',\n",
      " 'aether']\n"
     ]
    }
   ],
   "source": [
    "# Get words with poetic keyness\n",
    "\n",
    "term_freq_df = corpus.get_term_freq_df()\n",
    "term_freq_df['Verse Score'] = corpus.get_scaled_f_scores('verse')\n",
    "pprint(list(term_freq_df.sort_values(by='Verse Score', ascending=False).index[:10]))"
   ]
  },
  {
   "cell_type": "code",
   "execution_count": 39,
   "metadata": {},
   "outputs": [
    {
     "data": {
      "text/plain": [
       "8122491"
      ]
     },
     "execution_count": 39,
     "metadata": {},
     "output_type": "execute_result"
    }
   ],
   "source": [
    "# Create Scattertext HTML file with lemmatized text\n",
    "\n",
    "html_doc = st.produce_scattertext_explorer(corpus,\n",
    "          category='prose',\n",
    "          category_name='Prose',\n",
    "          not_category_name='Verse',\n",
    "          width_in_pixels=1000,\n",
    "          minimum_term_frequency=5,  \n",
    "          metadata=df['chunk'])\n",
    "\n",
    "open(\"Type-Visualization.html\", 'wb').write(html_doc.encode('utf-8'))        "
   ]
  },
  {
   "cell_type": "markdown",
   "metadata": {},
   "source": [
    "Click [here](https://cdn.rawgit.com/diyclassics/literature-experiments/21f004b3af0cac0eb08bbd64166983e3c2090a97/Lemmatized-Genre-Visualization.html) to view the interactive Scattertext plot."
   ]
  }
 ],
 "metadata": {
  "kernelspec": {
   "display_name": "Python 3",
   "language": "python",
   "name": "python3"
  },
  "language_info": {
   "codemirror_mode": {
    "name": "ipython",
    "version": 3
   },
   "file_extension": ".py",
   "mimetype": "text/x-python",
   "name": "python",
   "nbconvert_exporter": "python",
   "pygments_lexer": "ipython3",
   "version": "3.6.4"
  }
 },
 "nbformat": 4,
 "nbformat_minor": 2
}
